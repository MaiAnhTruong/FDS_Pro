{
 "cells": [
  {
   "cell_type": "code",
   "execution_count": 1,
   "metadata": {},
   "outputs": [
    {
     "name": "stderr",
     "output_type": "stream",
     "text": [
      "C:\\Users\\Asus\\AppData\\Local\\Temp\\ipykernel_33548\\959422822.py:1: DeprecationWarning: \n",
      "Pyarrow will become a required dependency of pandas in the next major release of pandas (pandas 3.0),\n",
      "(to allow more performant data types, such as the Arrow string type, and better interoperability with other libraries)\n",
      "but was not found to be installed on your system.\n",
      "If this would cause problems for you,\n",
      "please provide us feedback at https://github.com/pandas-dev/pandas/issues/54466\n",
      "        \n",
      "  import pandas as pd\n"
     ]
    }
   ],
   "source": [
    "import pandas as pd\n",
    "import numpy as np\n",
    "from sklearn.model_selection import train_test_split\n",
    "from sklearn.linear_model import LinearRegression"
   ]
  },
  {
   "cell_type": "code",
   "execution_count": 15,
   "metadata": {},
   "outputs": [
    {
     "data": {
      "text/html": [
       "<div>\n",
       "<style scoped>\n",
       "    .dataframe tbody tr th:only-of-type {\n",
       "        vertical-align: middle;\n",
       "    }\n",
       "\n",
       "    .dataframe tbody tr th {\n",
       "        vertical-align: top;\n",
       "    }\n",
       "\n",
       "    .dataframe thead th {\n",
       "        text-align: right;\n",
       "    }\n",
       "</style>\n",
       "<table border=\"1\" class=\"dataframe\">\n",
       "  <thead>\n",
       "    <tr style=\"text-align: right;\">\n",
       "      <th></th>\n",
       "      <th>time</th>\n",
       "      <th>title</th>\n",
       "      <th>poster_temp</th>\n",
       "      <th>area_temp</th>\n",
       "      <th>unit_temp</th>\n",
       "      <th>price_temp</th>\n",
       "      <th>temp</th>\n",
       "      <th>final_price</th>\n",
       "    </tr>\n",
       "  </thead>\n",
       "  <tbody>\n",
       "    <tr>\n",
       "      <th>0</th>\n",
       "      <td>2020-08-07</td>\n",
       "      <td>Bán nhà tại p.Phạm Ngũ Lão, Quận 1, 25m2, 4.2 TỶ</td>\n",
       "      <td>môi giới</td>\n",
       "      <td>tp hồ chí minh</td>\n",
       "      <td>tỷ</td>\n",
       "      <td>4.200000</td>\n",
       "      <td>-1</td>\n",
       "      <td>4.200000e+09</td>\n",
       "    </tr>\n",
       "    <tr>\n",
       "      <th>1</th>\n",
       "      <td>2020-08-07</td>\n",
       "      <td>Chung cư Opal Boulevard 95.49m² 3PN</td>\n",
       "      <td>môi giới</td>\n",
       "      <td>tp hồ chí minh</td>\n",
       "      <td>tỷ</td>\n",
       "      <td>3.308559</td>\n",
       "      <td>-1</td>\n",
       "      <td>3.308559e+09</td>\n",
       "    </tr>\n",
       "    <tr>\n",
       "      <th>2</th>\n",
       "      <td>2020-08-07</td>\n",
       "      <td>Bán nhà Phú Lãm. 34m*4T. tặng 3 điều hòa, 1,62 tỷ</td>\n",
       "      <td>môi giới</td>\n",
       "      <td>hà nội</td>\n",
       "      <td>tỷ</td>\n",
       "      <td>1.620000</td>\n",
       "      <td>-1</td>\n",
       "      <td>1.620000e+09</td>\n",
       "    </tr>\n",
       "    <tr>\n",
       "      <th>3</th>\n",
       "      <td>2020-08-07</td>\n",
       "      <td>Nhà trệt lầu . Hùynh thúc kháng</td>\n",
       "      <td>môi giới</td>\n",
       "      <td>cần thơ</td>\n",
       "      <td>tỷ</td>\n",
       "      <td>1.840000</td>\n",
       "      <td>-1</td>\n",
       "      <td>1.840000e+09</td>\n",
       "    </tr>\n",
       "    <tr>\n",
       "      <th>4</th>\n",
       "      <td>2020-08-07</td>\n",
       "      <td>Đất Lê Văn Lương, 85m2, Sổ riêng, Hẻm xe hơi, ...</td>\n",
       "      <td>môi giới</td>\n",
       "      <td>tp hồ chí minh</td>\n",
       "      <td>tỷ</td>\n",
       "      <td>2.250000</td>\n",
       "      <td>-1</td>\n",
       "      <td>2.250000e+09</td>\n",
       "    </tr>\n",
       "  </tbody>\n",
       "</table>\n",
       "</div>"
      ],
      "text/plain": [
       "         time                                              title poster_temp  \\\n",
       "0  2020-08-07   Bán nhà tại p.Phạm Ngũ Lão, Quận 1, 25m2, 4.2 TỶ    môi giới   \n",
       "1  2020-08-07                Chung cư Opal Boulevard 95.49m² 3PN    môi giới   \n",
       "2  2020-08-07  Bán nhà Phú Lãm. 34m*4T. tặng 3 điều hòa, 1,62 tỷ    môi giới   \n",
       "3  2020-08-07                    Nhà trệt lầu . Hùynh thúc kháng    môi giới   \n",
       "4  2020-08-07  Đất Lê Văn Lương, 85m2, Sổ riêng, Hẻm xe hơi, ...    môi giới   \n",
       "\n",
       "        area_temp unit_temp  price_temp  temp   final_price  \n",
       "0  tp hồ chí minh        tỷ    4.200000    -1  4.200000e+09  \n",
       "1  tp hồ chí minh        tỷ    3.308559    -1  3.308559e+09  \n",
       "2          hà nội        tỷ    1.620000    -1  1.620000e+09  \n",
       "3         cần thơ        tỷ    1.840000    -1  1.840000e+09  \n",
       "4  tp hồ chí minh        tỷ    2.250000    -1  2.250000e+09  "
      ]
     },
     "execution_count": 15,
     "metadata": {},
     "output_type": "execute_result"
    }
   ],
   "source": [
    "data = pd.read_csv('final.csv')\n",
    "data.drop(data.iloc[:, 0:2],inplace=True, axis=1)\n",
    "data.head()"
   ]
  },
  {
   "cell_type": "code",
   "execution_count": null,
   "metadata": {},
   "outputs": [],
   "source": []
  }
 ],
 "metadata": {
  "kernelspec": {
   "display_name": "AI",
   "language": "python",
   "name": "python3"
  },
  "language_info": {
   "codemirror_mode": {
    "name": "ipython",
    "version": 3
   },
   "file_extension": ".py",
   "mimetype": "text/x-python",
   "name": "python",
   "nbconvert_exporter": "python",
   "pygments_lexer": "ipython3",
   "version": "3.10.0"
  }
 },
 "nbformat": 4,
 "nbformat_minor": 2
}
